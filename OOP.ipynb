{
  "nbformat": 4,
  "nbformat_minor": 0,
  "metadata": {
    "colab": {
      "provenance": []
    },
    "kernelspec": {
      "name": "python3",
      "display_name": "Python 3"
    },
    "language_info": {
      "name": "python"
    }
  },
  "cells": [
    {
      "cell_type": "markdown",
      "source": [
        "# OOP Crash Course for Python\n",
        "### (Modules, Inheritance, Encapsulation, Decorators, Abstract Classes)"
      ],
      "metadata": {
        "id": "efqBpkUovnSZ"
      }
    },
    {
      "cell_type": "markdown",
      "source": [
        "# What is a Class? The Blueprint"
      ],
      "metadata": {
        "id": "ak1F05aUwLl2"
      }
    },
    {
      "cell_type": "code",
      "execution_count": 1,
      "metadata": {
        "colab": {
          "base_uri": "https://localhost:8080/"
        },
        "id": "DIzIAf3cvTUt",
        "outputId": "125b761f-6f8d-45bc-b249-5c340e65b4bb"
      },
      "outputs": [
        {
          "output_type": "stream",
          "name": "stdout",
          "text": [
            "Hi, I'm Alice, 20 years old.\n"
          ]
        }
      ],
      "source": [
        "# A class is a blueprint for creating objects.\n",
        "# It bundles data (attributes) and functions (methods) together.\n",
        "\n",
        "class Person:\n",
        "    def __init__(self, name, age):\n",
        "        self.name = name  # Attribute\n",
        "        self.age = age    # Attribute\n",
        "\n",
        "    def introduce(self):  # Method\n",
        "        return f\"Hi, I'm {self.name}, {self.age} years old.\"\n",
        "\n",
        "# Create an instance (object)\n",
        "alice = Person(\"Alice\", 20)\n",
        "print(alice.introduce())"
      ]
    },
    {
      "cell_type": "markdown",
      "source": [
        "`__init__` is the constructor. It runs automatically when you create an object. `self` refers to the instance."
      ],
      "metadata": {
        "id": "C1faylW5we60"
      }
    },
    {
      "cell_type": "markdown",
      "source": [
        "# Encapsulation — Bundle + Protect Data"
      ],
      "metadata": {
        "id": "47AgTJ6Fw5Lv"
      }
    },
    {
      "cell_type": "code",
      "source": [
        "class BankAccount:\n",
        "    def __init__(self, balance=0):\n",
        "        self.__balance = balance  # Private attribute (double underscore)\n",
        "\n",
        "    def deposit(self, amount):\n",
        "        if amount > 0:\n",
        "            self.__balance += amount\n",
        "            print(f\"Deposited ${amount}. New balance: ${self.__balance}\")\n",
        "\n",
        "    def get_balance(self):  # Public method to access private data\n",
        "        return self.__balance\n",
        "\n",
        "# Try it\n",
        "account = BankAccount(100)\n",
        "account.deposit(50)\n",
        "print(\"Balance:\", account.get_balance())\n",
        "\n",
        "# This won't work → AttributeError\n",
        "# print(account.__balance)  # Private! Encapsulated!"
      ],
      "metadata": {
        "colab": {
          "base_uri": "https://localhost:8080/"
        },
        "id": "0Byy3pQLwgCd",
        "outputId": "bd34e753-4ace-4bf9-fc1c-6b53ccbae580"
      },
      "execution_count": 2,
      "outputs": [
        {
          "output_type": "stream",
          "name": "stdout",
          "text": [
            "Deposited $50. New balance: $150\n",
            "Balance: 150\n"
          ]
        }
      ]
    },
    {
      "cell_type": "markdown",
      "source": [
        " Encapsulation = bundling data + methods + restricting direct access. Use `__` to make attributes private. Access via methods."
      ],
      "metadata": {
        "id": "QQOWNVaFzmR6"
      }
    },
    {
      "cell_type": "markdown",
      "source": [
        "# Inheritance — Child Inherits from Parent"
      ],
      "metadata": {
        "id": "eJVcU74hzyW2"
      }
    },
    {
      "cell_type": "code",
      "source": [
        "class Person:\n",
        "    def __init__(self, name, age):\n",
        "        self.name = name\n",
        "        self.age = age\n",
        "\n",
        "    def introduce(self):\n",
        "        return f\"Hi, I'm {self.name}.\"\n",
        "\n",
        "class Student(Person):  # Inherits from Person\n",
        "    def __init__(self, name, age, grade):\n",
        "        super().__init__(name, age)  # Call parent's constructor\n",
        "        self.grade = grade  # Add new attribute\n",
        "\n",
        "    def study(self):\n",
        "        return f\"{self.name} is studying hard for grade {self.grade}.\"\n",
        "\n",
        "# Create Student\n",
        "bob = Student(\"Bob\", 16, \"A\")\n",
        "print(bob.introduce())  # Inherited method\n",
        "print(bob.study())      # Child's own method"
      ],
      "metadata": {
        "colab": {
          "base_uri": "https://localhost:8080/"
        },
        "id": "8o849Bu1xnJn",
        "outputId": "9be2dc11-72f9-46c1-ee02-a88ff1201804"
      },
      "execution_count": 3,
      "outputs": [
        {
          "output_type": "stream",
          "name": "stdout",
          "text": [
            "Hi, I'm Bob.\n",
            "Bob is studying hard for grade A.\n"
          ]
        }
      ]
    },
    {
      "cell_type": "markdown",
      "source": [
        "`super().__init__()` is needed to initialize parent attributes. Without it, name and age won’t be set!"
      ],
      "metadata": {
        "id": "du7TtSuR0Jce"
      }
    },
    {
      "cell_type": "markdown",
      "source": [
        "# Multiple Inheritance — One Child, Many Parents"
      ],
      "metadata": {
        "id": "RuTzdA-o0ajL"
      }
    },
    {
      "cell_type": "code",
      "source": [
        "class Swimmer:\n",
        "    def swim(self):\n",
        "        return \"I can swim!\"\n",
        "\n",
        "class Runner:\n",
        "    def run(self):\n",
        "        return \"I can run!\"\n",
        "\n",
        "class Athlete(Swimmer, Runner):  # Inherits from both\n",
        "    pass\n",
        "\n",
        "athlete = Athlete()\n",
        "print(athlete.swim())\n",
        "print(athlete.run())"
      ],
      "metadata": {
        "colab": {
          "base_uri": "https://localhost:8080/"
        },
        "id": "f2n6hK19z642",
        "outputId": "b2b731f2-3c18-4144-d5fa-a69d0f3092d8"
      },
      "execution_count": 4,
      "outputs": [
        {
          "output_type": "stream",
          "name": "stdout",
          "text": [
            "I can swim!\n",
            "I can run!\n"
          ]
        }
      ]
    },
    {
      "cell_type": "markdown",
      "source": [
        "Python supports multiple inheritance. Order matters if methods conflict (Method Resolution Order — MRO)."
      ],
      "metadata": {
        "id": "9HbNeVhI0m4d"
      }
    },
    {
      "cell_type": "markdown",
      "source": [
        "# Method Overriding & Polymorphism"
      ],
      "metadata": {
        "id": "V05d4pv90rVy"
      }
    },
    {
      "cell_type": "code",
      "source": [
        "class Animal:\n",
        "    def speak(self):\n",
        "        return \"Some generic sound\"\n",
        "\n",
        "class Dog(Animal):\n",
        "    def speak(self):  # Override parent method\n",
        "        return \"Woof!\"\n",
        "\n",
        "class Cat(Animal):\n",
        "    def speak(self):  # Override parent method\n",
        "        return \"Meow!\"\n",
        "\n",
        "# Polymorphism in action\n",
        "animals = [Dog(), Cat()]\n",
        "for animal in animals:\n",
        "    print(animal.speak())  # Same method, different behavior"
      ],
      "metadata": {
        "colab": {
          "base_uri": "https://localhost:8080/"
        },
        "id": "WGzpe6e60ebb",
        "outputId": "53c0aeae-7630-45b1-9c70-09149b34902e"
      },
      "execution_count": 5,
      "outputs": [
        {
          "output_type": "stream",
          "name": "stdout",
          "text": [
            "Woof!\n",
            "Meow!\n"
          ]
        }
      ]
    },
    {
      "cell_type": "markdown",
      "source": [
        "Overriding = child redefines parent’s method. Polymorphism = same interface, different behaviors. Runtime magic!"
      ],
      "metadata": {
        "id": "yZy4AscR1O3J"
      }
    },
    {
      "cell_type": "markdown",
      "source": [
        "# Decorators — @property, @abstractmethod"
      ],
      "metadata": {
        "id": "YtxNncrb1YnA"
      }
    },
    {
      "cell_type": "code",
      "source": [
        "from abc import ABC, abstractmethod\n",
        "\n",
        "# Abstract Base Class\n",
        "class Shape(ABC):\n",
        "    @abstractmethod\n",
        "    def area(self):\n",
        "        pass\n",
        "\n",
        "    @property  # Turns method into attribute\n",
        "    @abstractmethod\n",
        "    def name(self):\n",
        "        pass\n",
        "\n",
        "class Circle(Shape):\n",
        "    def __init__(self, radius):\n",
        "        self.radius = radius\n",
        "\n",
        "    def area(self):  # Must implement!\n",
        "        return 3.14 * self.radius ** 2\n",
        "\n",
        "    @property\n",
        "    def name(self):  # Must implement!\n",
        "        return \"Circle\"\n",
        "\n",
        "# Use it\n",
        "circle = Circle(5)\n",
        "print(f\"{circle.name} area: {circle.area()}\")  # No () for property!"
      ],
      "metadata": {
        "colab": {
          "base_uri": "https://localhost:8080/"
        },
        "id": "O9Ms-t701QDY",
        "outputId": "f4b93f38-41a6-4055-a734-bf9ffa06861d"
      },
      "execution_count": 7,
      "outputs": [
        {
          "output_type": "stream",
          "name": "stdout",
          "text": [
            "Circle area: 78.5\n"
          ]
        }
      ]
    },
    {
      "cell_type": "markdown",
      "source": [
        "@abstractmethod → forces child classes to implement the method.  \n",
        "@property → lets you access method like an attribute (obj.name, not obj.name()).  \n",
        "Combine them for abstract properties."
      ],
      "metadata": {
        "id": "jvNxP1Id3XiG"
      }
    },
    {
      "cell_type": "markdown",
      "source": [
        "# Working with Files — Save & Load Data"
      ],
      "metadata": {
        "id": "TEIIxpXb3dab"
      }
    },
    {
      "cell_type": "code",
      "source": [
        "# Save student data to file\n",
        "students = [\n",
        "    {\"name\": \"Alice\", \"age\": 20, \"grade\": \"A\"},\n",
        "    {\"name\": \"Bob\", \"age\": 16, \"grade\": \"B\"}\n",
        "]\n",
        "\n",
        "# Write to file\n",
        "with open(\"students.txt\", \"w\") as f:\n",
        "    for s in students:\n",
        "        f.write(f\"{s['name']}, {s['age']}, {s['grade']}\\n\")\n",
        "\n",
        "# Read from file\n",
        "print(\"\\n=== Saved Students ===\")\n",
        "with open(\"students.txt\", \"r\") as f:\n",
        "    for line in f:\n",
        "        print(line.strip())"
      ],
      "metadata": {
        "colab": {
          "base_uri": "https://localhost:8080/"
        },
        "id": "YDnPE-Wn3ZRj",
        "outputId": "1b9c7089-0ec2-4ebd-ff6e-3df8e1fbf8a4"
      },
      "execution_count": 8,
      "outputs": [
        {
          "output_type": "stream",
          "name": "stdout",
          "text": [
            "\n",
            "=== Saved Students ===\n",
            "Alice, 20, A\n",
            "Bob, 16, B\n"
          ]
        }
      ]
    },
    {
      "cell_type": "markdown",
      "source": [
        "Use `with open(...) as f` — it auto-closes the file."
      ],
      "metadata": {
        "id": "NlcOcTF14A0m"
      }
    },
    {
      "cell_type": "markdown",
      "source": [
        "Now let's see some full-fledged examples."
      ],
      "metadata": {
        "id": "XRlUU_W74Swp"
      }
    },
    {
      "cell_type": "markdown",
      "source": [
        "# Menu-Driven Program (Bank Account Simulation)"
      ],
      "metadata": {
        "id": "uRKTgdgo4Mi_"
      }
    },
    {
      "cell_type": "code",
      "source": [
        "class BankAccount:\n",
        "    def __init__(self, balance=0):\n",
        "        self.__balance = balance\n",
        "\n",
        "    def deposit(self, amount):\n",
        "        self.__balance += amount\n",
        "        self.log_transaction(f\"Deposited ${amount}\")\n",
        "\n",
        "    def withdraw(self, amount):\n",
        "        if amount <= self.__balance:\n",
        "            self.__balance -= amount\n",
        "            self.log_transaction(f\"Withdrew ${amount}\")\n",
        "        else:\n",
        "            print(\"Insufficient funds!\")\n",
        "\n",
        "    def get_balance(self):\n",
        "        return self.__balance\n",
        "\n",
        "    def log_transaction(self, msg):\n",
        "        with open(\"transactions.txt\", \"a\") as f:\n",
        "            f.write(msg + \"\\n\")\n",
        "\n",
        "# Menu loop\n",
        "account = BankAccount(100)\n",
        "while True:\n",
        "    print(\"\\n1. Deposit\\n2. Withdraw\\n3. Check Balance\\n4. Exit\")\n",
        "    choice = input(\"Choose: \")\n",
        "    if choice == \"1\":\n",
        "        amount = float(input(\"Amount: \"))\n",
        "        account.deposit(amount)\n",
        "    elif choice == \"2\":\n",
        "        amount = float(input(\"Amount: \"))\n",
        "        account.withdraw(amount)\n",
        "    elif choice == \"3\":\n",
        "        print(\"Balance:\", account.get_balance())\n",
        "    elif choice == \"4\":\n",
        "        break\n",
        "\n",
        "# Show transactions\n",
        "print(\"\\n=== Transactions ===\")\n",
        "with open(\"transactions.txt\", \"r\") as f:\n",
        "    print(f.read())"
      ],
      "metadata": {
        "colab": {
          "base_uri": "https://localhost:8080/"
        },
        "id": "VBb0aHYx4Bjt",
        "outputId": "d0c70be0-1875-488b-fe78-efed0aa52190"
      },
      "execution_count": 9,
      "outputs": [
        {
          "output_type": "stream",
          "name": "stdout",
          "text": [
            "\n",
            "1. Deposit\n",
            "2. Withdraw\n",
            "3. Check Balance\n",
            "4. Exit\n",
            "Choose: 3\n",
            "Balance: 100\n",
            "\n",
            "1. Deposit\n",
            "2. Withdraw\n",
            "3. Check Balance\n",
            "4. Exit\n",
            "Choose: 1\n",
            "Amount: 50\n",
            "\n",
            "1. Deposit\n",
            "2. Withdraw\n",
            "3. Check Balance\n",
            "4. Exit\n",
            "Choose: 3\n",
            "Balance: 150.0\n",
            "\n",
            "1. Deposit\n",
            "2. Withdraw\n",
            "3. Check Balance\n",
            "4. Exit\n",
            "Choose: 4\n",
            "\n",
            "=== Transactions ===\n",
            "Deposited $50.0\n",
            "\n"
          ]
        }
      ]
    },
    {
      "cell_type": "markdown",
      "source": [
        "The key idea here is to use Menu loops + file logging. Use `while True` and `break` to exit"
      ],
      "metadata": {
        "id": "JB4Rzk4w47p5"
      }
    },
    {
      "cell_type": "markdown",
      "source": [
        "# Creating & Using Modules (Temperature Converter)"
      ],
      "metadata": {
        "id": "uaV3x_lh5Mg_"
      }
    },
    {
      "cell_type": "code",
      "source": [
        "# First, create the module file\n",
        "%%writefile temperature.py\n",
        "def celsius_to_fahrenheit(c):\n",
        "    return (c * 9/5) + 32\n",
        "\n",
        "def fahrenheit_to_celsius(f):\n",
        "    return (f - 32) * 5/9\n",
        "\n",
        "def celsius_to_kelvin(c):\n",
        "    return c + 273.15\n"
      ],
      "metadata": {
        "colab": {
          "base_uri": "https://localhost:8080/"
        },
        "id": "66ZBE5-J47Eb",
        "outputId": "001f33cf-16c3-4c06-de52-2594815d717d"
      },
      "execution_count": 11,
      "outputs": [
        {
          "output_type": "stream",
          "name": "stdout",
          "text": [
            "Overwriting temperature.py\n"
          ]
        }
      ]
    },
    {
      "cell_type": "code",
      "source": [
        "# Now use it\n",
        "import temperature\n",
        "\n",
        "temp = float(input(\"Enter temperature: \"))\n",
        "print(\"1. C to F\\n2. F to C\\n3. C to K\")\n",
        "choice = input(\"Convert to: \")\n",
        "\n",
        "if choice == \"1\":\n",
        "    result = temperature.celsius_to_fahrenheit(temp)\n",
        "    print(f\"{temp}°C = {result:.2f}°F\")\n",
        "elif choice == \"2\":\n",
        "    result = temperature.fahrenheit_to_celsius(temp)\n",
        "    print(f\"{temp}°F = {result:.2f}°C\")\n",
        "elif choice == \"3\":\n",
        "    result = temperature.celsius_to_kelvin(temp)\n",
        "    print(f\"{temp}°C = {result:.2f}K\")"
      ],
      "metadata": {
        "colab": {
          "base_uri": "https://localhost:8080/"
        },
        "id": "5bRxCUfc5oai",
        "outputId": "c8aa1166-84ee-4d0a-c674-3e882ecbe598"
      },
      "execution_count": 12,
      "outputs": [
        {
          "output_type": "stream",
          "name": "stdout",
          "text": [
            "Enter temperature: 45\n",
            "1. C to F\n",
            "2. F to C\n",
            "3. C to K\n",
            "Convert to: 1\n",
            "45.0°C = 113.00°F\n"
          ]
        }
      ]
    },
    {
      "cell_type": "markdown",
      "source": [
        "Any .py file is a module. Use import filename to reuse its functions."
      ],
      "metadata": {
        "id": "rG1tZ0g_534m"
      }
    },
    {
      "cell_type": "markdown",
      "source": [
        "# Summary — OOP in 4 Pillars:\n",
        "\n",
        "OOP’s 4 Pillars:\n",
        "\n",
        "1. ENCAPSULATION\n",
        "   → Bundle data + methods. Hide internals (use __).\n",
        "   → Access via public methods.\n",
        "\n",
        "2. INHERITANCE\n",
        "   → class Child(Parent)\n",
        "   → Use super().__init__() to init parent!\n",
        "   → Supports multiple, hierarchical, multilevel.\n",
        "\n",
        "3. POLYMORPHISM\n",
        "   → Same method name, different behaviors.\n",
        "   → Achieved via method overriding.\n",
        "\n",
        "4. ABSTRACTION\n",
        "   → Hide complexity. Show only essentials.\n",
        "   → Use ABC + @abstractmethod to force structure.\n",
        "\n",
        "Other concepts :\n",
        "   → @property → method as attribute\n",
        "   → @decorator → wrap functions\n",
        "   → File I/O → with open(...)"
      ],
      "metadata": {
        "id": "dQBMZYo35-Fu"
      }
    },
    {
      "cell_type": "code",
      "source": [],
      "metadata": {
        "id": "O4BfBvAg6Stm"
      },
      "execution_count": null,
      "outputs": []
    }
  ]
}
