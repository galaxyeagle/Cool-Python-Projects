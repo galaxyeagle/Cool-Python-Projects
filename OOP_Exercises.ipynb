{
  "nbformat": 4,
  "nbformat_minor": 0,
  "metadata": {
    "colab": {
      "provenance": [],
      "toc_visible": true
    },
    "kernelspec": {
      "name": "python3",
      "display_name": "Python 3"
    },
    "language_info": {
      "name": "python"
    }
  },
  "cells": [
    {
      "cell_type": "markdown",
      "source": [
        "# QUESTION 1: Student Management System\n",
        "\n",
        "You are required to build a simple Student Management System using Object-Oriented Programming.\n",
        "\n",
        "1.  **Create a base class `Person`** with the attributes:\n",
        "    -   `name`\n",
        "    -   `age`\n",
        "\n",
        "2.  **Create a subclass `Student`** that inherits from `Person` and has an extra attribute:\n",
        "    -   `grade`\n",
        "\n",
        "3.  Write a function to **add multiple students using a loop and user input**.\n",
        "\n",
        "4.  **Save all student details** into a file named `students.txt`.\n",
        "\n",
        "5.  **Read back the file** and display all the student details on the screen.\n"
      ],
      "metadata": {
        "id": "hX_58QngnY07"
      }
    },
    {
      "cell_type": "markdown",
      "source": [
        "# SOLUTION 1 :"
      ],
      "metadata": {
        "id": "Io65iknOIzEX"
      }
    },
    {
      "cell_type": "code",
      "source": [
        "# Defining Base and Sub Classes\n",
        "\n",
        "class Person:\n",
        "  def __init__(self, name, age):\n",
        "    self.name = name\n",
        "    self.age = age\n",
        "\n",
        "class Student(Person):\n",
        "  def __init__(self, name, age, grade):\n",
        "    super().__init__(name,age)\n",
        "    self.grade = grade"
      ],
      "metadata": {
        "id": "lpZ0ahcanvHc"
      },
      "execution_count": 1,
      "outputs": []
    },
    {
      "cell_type": "code",
      "source": [
        "# To empty previous contents of the file and start afresh\n",
        "\n",
        "def add_students():\n",
        "  with open(\"students.txt\", \"w\") as f:\n",
        "      pass\n",
        "\n",
        "  print(\"Add name, age, grade of the students :\")\n",
        "\n",
        "  # adding students to the file\n",
        "  with open(\"students.txt\", \"a\") as f:\n",
        "    while True:\n",
        "      name = input(\"Name (or 'done'):\")\n",
        "      if name == \"done\":\n",
        "        break\n",
        "      age = input(\"Age:\")\n",
        "      grade = input(\"Grade:\")\n",
        "      student = Student(name, age, grade)\n",
        "      f.write(f\"Name:{student.name}, Age: {student.age}, Grade: {student.grade}\\n\")\n",
        "\n",
        "add_students()\n",
        "\n",
        "# reading file contents\n",
        "print(\"\\n Contents of the file :\")\n",
        "with open(\"students.txt\", \"r\") as f:\n",
        "    print(f.read())"
      ],
      "metadata": {
        "colab": {
          "base_uri": "https://localhost:8080/"
        },
        "id": "dlIJFvFnGXvc",
        "outputId": "8758e37c-1512-4e48-cf55-03c9afd95cbc"
      },
      "execution_count": 2,
      "outputs": [
        {
          "output_type": "stream",
          "name": "stdout",
          "text": [
            "Add name, age, grade of the students :\n",
            "Name (or 'done'):Tom\n",
            "Age:20\n",
            "Grade:A\n",
            "Name (or 'done'):Sam\n",
            "Age:22\n",
            "Grade:C\n",
            "Name (or 'done'):Betty\n",
            "Age:21\n",
            "Grade:B\n",
            "Name (or 'done'):done\n",
            "\n",
            " Contents of the file :\n",
            "Name:Tom, Age: 20, Grade: A\n",
            "Name:Sam, Age: 22, Grade: C\n",
            "Name:Betty, Age: 21, Grade: B\n",
            "\n"
          ]
        }
      ]
    },
    {
      "cell_type": "markdown",
      "source": [
        "\n",
        "# QUESTION 2: Bank Account Simulation\n",
        "\n",
        "You are required to simulate a basic Bank Account System.\n",
        "\n",
        "1.  **Create a class `BankAccount`** with a private attribute:\n",
        "    -   `__balance`\n",
        "\n",
        "2.  Define the following methods:\n",
        "    -   `deposit(amount)`: Adds money to the balance.\n",
        "    -   `withdraw(amount)`: Deducts money (only if enough funds are available).\n",
        "    -   `get_balance()`: Displays the current balance.\n",
        "\n",
        "3.  Write a **menu-driven program** that lets the user:\n",
        "    -   Deposit Money\n",
        "    -   Withdraw Money\n",
        "    -   Check Balance\n",
        "    -   Exit\n",
        "\n",
        "4.  Each time a deposit or withdrawal is done, **save the transaction** into a file called `transactions.txt`.\n",
        "\n",
        "5.  When the user exits, **read and display all transactions** from the file."
      ],
      "metadata": {
        "id": "MrAzeQ9MSvLm"
      }
    },
    {
      "cell_type": "markdown",
      "source": [
        "# SOLUTION 2 :"
      ],
      "metadata": {
        "id": "q77aC91iTA8k"
      }
    },
    {
      "cell_type": "code",
      "source": [
        "# Define class and methods\n",
        "\n",
        "class BankAccount:\n",
        "    def __init__(self, balance=0):\n",
        "        self.__balance = balance\n",
        "\n",
        "    def deposit(self, amount):\n",
        "        self.__balance += amount\n",
        "        self.log_transaction(f\"Deposited Rs {amount}\")\n",
        "\n",
        "    def withdraw(self, amount):\n",
        "        if amount <= self.__balance:\n",
        "            self.__balance -= amount\n",
        "            self.log_transaction(f\"Withdrew Rs {amount}\")\n",
        "        else:\n",
        "            print(\"Insufficient funds!\")\n",
        "\n",
        "    def get_balance(self):\n",
        "        return self.__balance\n",
        "\n",
        "    def log_transaction(self, msg):\n",
        "        with open(\"transactions.txt\", \"a\") as f:\n",
        "            f.write(msg + \"\\n\")\n"
      ],
      "metadata": {
        "id": "CevgVw8ASwS5"
      },
      "execution_count": 3,
      "outputs": []
    },
    {
      "cell_type": "code",
      "source": [
        "# Menu loop\n",
        "account = BankAccount(100)\n",
        "while True:\n",
        "    print(\"\\n1. Deposit\\n2. Withdraw\\n3. Check Balance\\n4. Exit\")\n",
        "    choice = input(\"Choose: \")\n",
        "    if choice == \"1\":\n",
        "        amount = float(input(\"Amount: \"))\n",
        "        account.deposit(amount)\n",
        "    elif choice == \"2\":\n",
        "        amount = float(input(\"Amount: \"))\n",
        "        account.withdraw(amount)\n",
        "    elif choice == \"3\":\n",
        "        print(\"Balance:\", account.get_balance())\n",
        "    elif choice == \"4\":\n",
        "        break\n",
        "\n",
        "# Show transactions\n",
        "print(\"\\n=== Transactions ===\")\n",
        "with open(\"transactions.txt\", \"r\") as f:\n",
        "    print(f.read())"
      ],
      "metadata": {
        "colab": {
          "base_uri": "https://localhost:8080/"
        },
        "id": "MBDtEqURWH-t",
        "outputId": "a223d8cf-d581-49d5-932e-0d293bfec71e"
      },
      "execution_count": 4,
      "outputs": [
        {
          "output_type": "stream",
          "name": "stdout",
          "text": [
            "\n",
            "1. Deposit\n",
            "2. Withdraw\n",
            "3. Check Balance\n",
            "4. Exit\n",
            "Choose: 3\n",
            "Balance: 100\n",
            "\n",
            "1. Deposit\n",
            "2. Withdraw\n",
            "3. Check Balance\n",
            "4. Exit\n",
            "Choose: 2\n",
            "Amount: 30\n",
            "\n",
            "1. Deposit\n",
            "2. Withdraw\n",
            "3. Check Balance\n",
            "4. Exit\n",
            "Choose: 1\n",
            "Amount: 80\n",
            "\n",
            "1. Deposit\n",
            "2. Withdraw\n",
            "3. Check Balance\n",
            "4. Exit\n",
            "Choose: 3\n",
            "Balance: 150.0\n",
            "\n",
            "1. Deposit\n",
            "2. Withdraw\n",
            "3. Check Balance\n",
            "4. Exit\n",
            "Choose: 4\n",
            "\n",
            "=== Transactions ===\n",
            "Withdrew Rs 30.0\n",
            "Deposited Rs 80.0\n",
            "\n"
          ]
        }
      ]
    },
    {
      "cell_type": "markdown",
      "source": [
        "# QUESTION 3: Temperature Converter Module\n",
        "\n",
        "You are required to create and use a Python module for temperature conversions.\n",
        "\n",
        "1.  **Create a module file called `temperature.py`** that contains these functions:\n",
        "    -   `celsius_to_fahrenheit(c)` → Converts Celsius to Fahrenheit.\n",
        "    -   `fahrenheit_to_celsius(f)` → Converts Fahrenheit to Celsius.\n",
        "    -   `celsius_to_kelvin(c)` → Converts Celsius to Kelvin.\n",
        "\n",
        "2.  **Create another file called `main.py`** where you:\n",
        "    -   Import the `temperature` module.\n",
        "    -   Ask the user to enter a temperature and choose a conversion type.\n",
        "    -   Call the correct function from the module and display the converted result."
      ],
      "metadata": {
        "id": "7i59l9LGWl4x"
      }
    },
    {
      "cell_type": "markdown",
      "source": [
        "# SOLUTION 3 :"
      ],
      "metadata": {
        "id": "kw7sEOZSW69Y"
      }
    },
    {
      "cell_type": "code",
      "source": [
        "# Creating the module file\n",
        "\n",
        "%%writefile temperature.py\n",
        "def celsius_to_fahrenheit(c):\n",
        "    return (c * 9/5) + 32\n",
        "\n",
        "def fahrenheit_to_celsius(f):\n",
        "    return (f - 32) * 5/9\n",
        "\n",
        "def celsius_to_kelvin(c):\n",
        "    return c + 273.15\n"
      ],
      "metadata": {
        "colab": {
          "base_uri": "https://localhost:8080/"
        },
        "id": "aCiKBx3vWpOR",
        "outputId": "70aadbdb-7bfc-4691-e7fb-4b8b0d2cc289"
      },
      "execution_count": 5,
      "outputs": [
        {
          "output_type": "stream",
          "name": "stdout",
          "text": [
            "Writing temperature.py\n"
          ]
        }
      ]
    },
    {
      "cell_type": "code",
      "source": [
        "# Using the module file\n",
        "\n",
        "import temperature\n",
        "\n",
        "temp = float(input(\"Enter temperature: \"))\n",
        "print(\"1. C to F\\n2. F to C\\n3. C to K\")\n",
        "choice = input(\"Convert to: \")\n",
        "\n",
        "if choice == \"1\":\n",
        "    result = temperature.celsius_to_fahrenheit(temp)\n",
        "    print(f\"{temp}°C = {result:.2f}°F\")\n",
        "elif choice == \"2\":\n",
        "    result = temperature.fahrenheit_to_celsius(temp)\n",
        "    print(f\"{temp}°F = {result:.2f}°C\")\n",
        "elif choice == \"3\":\n",
        "    result = temperature.celsius_to_kelvin(temp)\n",
        "    print(f\"{temp}°C = {result:.2f}K\")"
      ],
      "metadata": {
        "colab": {
          "base_uri": "https://localhost:8080/"
        },
        "id": "ppywCIPsXsdY",
        "outputId": "9e896419-b852-4c77-86f8-3ef90f2fc5f1"
      },
      "execution_count": 6,
      "outputs": [
        {
          "output_type": "stream",
          "name": "stdout",
          "text": [
            "Enter temperature: 27\n",
            "1. C to F\n",
            "2. F to C\n",
            "3. C to K\n",
            "Convert to: 3\n",
            "27.0°C = 300.15K\n"
          ]
        }
      ]
    }
  ]
}
